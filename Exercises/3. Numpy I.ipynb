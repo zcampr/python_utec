{
  "nbformat": 4,
  "nbformat_minor": 0,
  "metadata": {
    "colab": {
      "provenance": [],
      "include_colab_link": true
    },
    "kernelspec": {
      "name": "python3",
      "display_name": "Python 3"
    },
    "language_info": {
      "name": "python"
    }
  },
  "cells": [
    {
      "cell_type": "markdown",
      "metadata": {
        "id": "view-in-github",
        "colab_type": "text"
      },
      "source": [
        "<a href=\"https://colab.research.google.com/github/zcampr/python_utec/blob/main/Exercises/3.%20Numpy%20I.ipynb\" target=\"_parent\"><img src=\"https://colab.research.google.com/assets/colab-badge.svg\" alt=\"Open In Colab\"/></a>"
      ]
    },
    {
      "cell_type": "markdown",
      "source": [
        "<img src=\"https://www.ctic.uni.edu.pe/wp-content/uploads/2022/04/588px-x-348px-web-1.png\" alt=\"HTML5 Icon\" width=\"900\" height=\"350\" >"
      ],
      "metadata": {
        "id": "E_ZHW3fmVS4E"
      }
    },
    {
      "cell_type": "markdown",
      "source": [
        "<h1 align=center><font size = 5> Numpy - Parte I\n",
        "</font></h1>\n",
        "\n",
        "---"
      ],
      "metadata": {
        "id": "11DUCa4NVXVE"
      }
    },
    {
      "cell_type": "markdown",
      "source": [
        "## Tabla de Contenidos\n",
        "\n",
        "<div class=\"alert alert-block alert-info\" style=\"margin-top: 20px\">\n",
        "\n",
        "<font size = 3>\n",
        "    \n",
        "1. <a href=\"#item31\">Trabajando con arrays </a>\n",
        "2. <a href=\"#item31\">Algebra Matricial con arrays</a>  \n",
        "\n",
        "</font>\n",
        "</div>\n",
        "\n",
        "---"
      ],
      "metadata": {
        "id": "y0BfNj-RyguL"
      }
    },
    {
      "cell_type": "markdown",
      "source": [
        "# 1. Trabajando con Arrays "
      ],
      "metadata": {
        "id": "fY5fHyw61UB5"
      }
    },
    {
      "cell_type": "code",
      "source": [
        "#importando numpy\n",
        "import numpy as np"
      ],
      "metadata": {
        "id": "f1NmzUpsUrcj"
      },
      "execution_count": null,
      "outputs": []
    },
    {
      "cell_type": "code",
      "source": [
        "# Array de una dimensión\n",
        "a1 = np.array([1, 2, 3])\n",
        "print(a1)"
      ],
      "metadata": {
        "id": "SiPNzB73APBU"
      },
      "execution_count": null,
      "outputs": []
    },
    {
      "cell_type": "code",
      "execution_count": null,
      "metadata": {
        "id": "A2OxEnshtGJD"
      },
      "outputs": [],
      "source": [
        "# Array de dos dimensiones\n",
        "a2 = np.array([[1, 2, 3], [4, 5, 6]])\n",
        "print(a2)"
      ]
    },
    {
      "cell_type": "code",
      "source": [
        "# Array de tres dimensiones\n",
        "a3 = np.array([[[1, 2, 3], [4, 5, 6]], [[7, 8, 9], [10, 11, 12]]])\n",
        "print(a3)"
      ],
      "metadata": {
        "id": "BusmC4LB1gI8"
      },
      "execution_count": null,
      "outputs": []
    },
    {
      "cell_type": "markdown",
      "source": [
        "### Otras formas de crear arrays"
      ],
      "metadata": {
        "id": "VcV6mD36V0Ip"
      }
    },
    {
      "cell_type": "code",
      "source": [
        "np.zeros((2, 2))"
      ],
      "metadata": {
        "id": "v4lFhW1sbg_2"
      },
      "execution_count": null,
      "outputs": []
    },
    {
      "cell_type": "code",
      "source": [
        "np.ones((2, 2))"
      ],
      "metadata": {
        "id": "pz_NpJO6brs0"
      },
      "execution_count": null,
      "outputs": []
    },
    {
      "cell_type": "code",
      "source": [
        "np.full((2,2), 10)"
      ],
      "metadata": {
        "id": "7jt7YHcmAahG",
        "outputId": "6504d1d5-43d0-4568-b1da-7fd58328029c",
        "colab": {
          "base_uri": "https://localhost:8080/"
        }
      },
      "execution_count": null,
      "outputs": [
        {
          "output_type": "execute_result",
          "data": {
            "text/plain": [
              "array([[10, 10],\n",
              "       [10, 10]])"
            ]
          },
          "metadata": {},
          "execution_count": 13
        }
      ]
    },
    {
      "cell_type": "code",
      "source": [
        "np.identity(3)"
      ],
      "metadata": {
        "id": "0ufNgmA_b0M4"
      },
      "execution_count": null,
      "outputs": []
    },
    {
      "cell_type": "code",
      "source": [
        "np.arange(1, 9, 1)"
      ],
      "metadata": {
        "id": "0ZhBiYJuAfJB"
      },
      "execution_count": null,
      "outputs": []
    },
    {
      "cell_type": "code",
      "source": [
        "np.linspace(1, 9, 3)"
      ],
      "metadata": {
        "id": "Gd335gxCAjGa"
      },
      "execution_count": null,
      "outputs": []
    },
    {
      "cell_type": "code",
      "source": [
        "np.random.random((2, 2)) "
      ],
      "metadata": {
        "id": "H5yuZdfkXMym"
      },
      "execution_count": null,
      "outputs": []
    },
    {
      "cell_type": "markdown",
      "source": [
        "### Atributos de un array"
      ],
      "metadata": {
        "id": "0GbfBGic15oY"
      }
    },
    {
      "cell_type": "code",
      "source": [
        "#Devuelve el número de dimensiones del array\n",
        "a.ndim "
      ],
      "metadata": {
        "id": "p4DArzqhCKco"
      },
      "execution_count": null,
      "outputs": []
    },
    {
      "cell_type": "code",
      "source": [
        "#Devuelve una tupla con las dimensiones del array\n",
        "a.shape"
      ],
      "metadata": {
        "id": "ndoPuCOaXhuC"
      },
      "execution_count": null,
      "outputs": []
    },
    {
      "cell_type": "code",
      "source": [
        "#Devuelve el número de elementos del array\n",
        "a.size"
      ],
      "metadata": {
        "id": "76MmfeABXj9I"
      },
      "execution_count": null,
      "outputs": []
    },
    {
      "cell_type": "code",
      "source": [
        "#Devuelve el tipo de datos de los elementos del array\n",
        "a.dtype"
      ],
      "metadata": {
        "id": "iojpwYpIXqvp"
      },
      "execution_count": null,
      "outputs": []
    },
    {
      "cell_type": "markdown",
      "source": [
        "### Acceder a elementos del array"
      ],
      "metadata": {
        "id": "b3Y8iK2rYUNk"
      }
    },
    {
      "cell_type": "code",
      "source": [
        "a = np.array([[1, 2, 3], [4, 5, 6]])\n",
        "print(a[1, 0])"
      ],
      "metadata": {
        "id": "VxwH2dxTYT2p"
      },
      "execution_count": null,
      "outputs": []
    },
    {
      "cell_type": "code",
      "source": [
        "print(a[1][0])"
      ],
      "metadata": {
        "id": "TZoWHwO8YeBa"
      },
      "execution_count": null,
      "outputs": []
    },
    {
      "cell_type": "code",
      "source": [
        "print(a[:, 0:2])"
      ],
      "metadata": {
        "id": "PnAyfn-zYhIt"
      },
      "execution_count": null,
      "outputs": []
    },
    {
      "cell_type": "markdown",
      "source": [
        "### Filtrado de elementos de un array"
      ],
      "metadata": {
        "id": "lcrw2Z0m78lP"
      }
    },
    {
      "cell_type": "code",
      "source": [
        "a = np.array([[1, 2, 3], [4, 5, 6]])\n",
        "print(a[(a % 2 == 0)])"
      ],
      "metadata": {
        "id": "8AE3fsNL8EtC"
      },
      "execution_count": null,
      "outputs": []
    },
    {
      "cell_type": "code",
      "source": [
        "print(a[(a % 2 == 0) &  (a > 2)])"
      ],
      "metadata": {
        "id": "5PbY7G5f8JU_"
      },
      "execution_count": null,
      "outputs": []
    },
    {
      "cell_type": "markdown",
      "source": [
        "### Operaciones matemáticas con arrays"
      ],
      "metadata": {
        "id": "9yx9EFua8MJX"
      }
    },
    {
      "cell_type": "code",
      "source": [
        "a = np.array([[1, 2, 3], [4, 5, 6]])\n",
        "b = np.array([[1, 1, 1], [2, 2, 2]])"
      ],
      "metadata": {
        "id": "-NrePFXc8PHD"
      },
      "execution_count": null,
      "outputs": []
    },
    {
      "cell_type": "code",
      "source": [
        "print(a + b )"
      ],
      "metadata": {
        "id": "_kFbK9_K8Qrf"
      },
      "execution_count": null,
      "outputs": []
    },
    {
      "cell_type": "code",
      "source": [
        "print(a / b)"
      ],
      "metadata": {
        "id": "qNgHme0V8UIw"
      },
      "execution_count": null,
      "outputs": []
    },
    {
      "cell_type": "code",
      "source": [
        "print(a ** 2)"
      ],
      "metadata": {
        "id": "lG8L6h0r8Vqn"
      },
      "execution_count": null,
      "outputs": []
    },
    {
      "cell_type": "markdown",
      "source": [
        "# 2. Álgebra matricial con arrays"
      ],
      "metadata": {
        "id": "s7k34kfm8X69"
      }
    },
    {
      "cell_type": "markdown",
      "source": [
        "### Producto escalar de dos vectores"
      ],
      "metadata": {
        "id": "j6AAGCRr87wU"
      }
    },
    {
      "cell_type": "markdown",
      "source": [
        "u.dot(v): Devuelve el producto escalar de los vectores u y v.\n",
        "\n"
      ],
      "metadata": {
        "id": "gwuBYeb29Qfh"
      }
    },
    {
      "cell_type": "code",
      "source": [
        "import numpy as np\n",
        "a = np.array([1, 2, 3])\n",
        "b = np.array([1, 0, 1])\n",
        "print(a @ b)"
      ],
      "metadata": {
        "id": "wfdhOaH28ryF"
      },
      "execution_count": null,
      "outputs": []
    },
    {
      "cell_type": "code",
      "source": [
        "print(a.dot(b))"
      ],
      "metadata": {
        "id": "cbsnIrcI8zfo"
      },
      "execution_count": null,
      "outputs": []
    },
    {
      "cell_type": "code",
      "source": [
        "a*b"
      ],
      "metadata": {
        "id": "rV83-Tis9GMa"
      },
      "execution_count": null,
      "outputs": []
    },
    {
      "cell_type": "markdown",
      "source": [
        "### Módulo de un vector"
      ],
      "metadata": {
        "id": "iqUXxB_j9ML1"
      }
    },
    {
      "cell_type": "markdown",
      "source": [
        "norm(v): Devuelve el módulo del vector v."
      ],
      "metadata": {
        "id": "Aq7ECjOp9Pnz"
      }
    },
    {
      "cell_type": "code",
      "source": [
        "a = np.array([3, 4])"
      ],
      "metadata": {
        "id": "P_Lq83--9flL"
      },
      "execution_count": null,
      "outputs": []
    },
    {
      "cell_type": "code",
      "source": [
        "print(np.linalg.norm(a))"
      ],
      "metadata": {
        "id": "CdIAQBEt9hHW"
      },
      "execution_count": null,
      "outputs": []
    },
    {
      "cell_type": "markdown",
      "source": [
        "### Producto de dos matrices"
      ],
      "metadata": {
        "id": "dX-NAWL19tyX"
      }
    },
    {
      "cell_type": "markdown",
      "source": [
        "a.dot(b) : Devuelve el producto matricial de las matrices a y b siempre y cuando sus dimensiones sean compatibles."
      ],
      "metadata": {
        "id": "qYkfLl6J-CLK"
      }
    },
    {
      "cell_type": "code",
      "source": [
        "a = np.array([[1, 2, 3], [4, 5, 6]])\n",
        "b = np.array([[1, 1], [2, 2], [3, 3]])\n",
        "print(a @ b)"
      ],
      "metadata": {
        "id": "5D1PWI3G-EWG"
      },
      "execution_count": null,
      "outputs": []
    },
    {
      "cell_type": "code",
      "source": [
        "print(a.dot(b))"
      ],
      "metadata": {
        "id": "Tzn3MeyH_9fv"
      },
      "execution_count": null,
      "outputs": []
    },
    {
      "cell_type": "markdown",
      "source": [
        "### Matriz traspuesta"
      ],
      "metadata": {
        "id": "5OW9IONI__48"
      }
    },
    {
      "cell_type": "code",
      "source": [
        "np.array([[1, 2, 3], [4, 5, 6]])\n",
        "print(a.T)"
      ],
      "metadata": {
        "id": "NyqB9xjIACUa"
      },
      "execution_count": null,
      "outputs": []
    },
    {
      "cell_type": "markdown",
      "source": [
        "### Traza de una matriz"
      ],
      "metadata": {
        "id": "8TJzLVf5AHf0"
      }
    },
    {
      "cell_type": "markdown",
      "source": [
        "a.trace() : Devuelve la traza (suma de la diagonal principal) de la matriz cuadrada a."
      ],
      "metadata": {
        "id": "HDbLyKgnALVr"
      }
    },
    {
      "cell_type": "code",
      "source": [
        "a = np.array([[1, 2, 3], [4, 5, 6], [7, 8, 9]])\n",
        "print(a.trace())"
      ],
      "metadata": {
        "id": "vCUPvFPYANPk"
      },
      "execution_count": null,
      "outputs": []
    },
    {
      "cell_type": "markdown",
      "source": [
        "### Determinante de una matriz"
      ],
      "metadata": {
        "id": "w6fDKLQxAXr-"
      }
    },
    {
      "cell_type": "markdown",
      "source": [
        "det(a) : Devuelve el determinante de la matriz cuadrada a."
      ],
      "metadata": {
        "id": "N5bWowfWAa1h"
      }
    },
    {
      "cell_type": "code",
      "source": [
        "a = np.array([[1, 2], [3, 4]])\n",
        "print(np.linalg.det(a))"
      ],
      "metadata": {
        "id": "pkqeA5kRAcZn"
      },
      "execution_count": null,
      "outputs": []
    },
    {
      "cell_type": "markdown",
      "source": [
        "### Matriz inversa"
      ],
      "metadata": {
        "id": "7gzecMWTAflX"
      }
    },
    {
      "cell_type": "code",
      "source": [
        "a = np.array([[1, 2], [3, 4]])\n",
        "print(np.linalg.inv(a))"
      ],
      "metadata": {
        "id": "ywNxwmcuAiWO"
      },
      "execution_count": null,
      "outputs": []
    },
    {
      "cell_type": "markdown",
      "source": [
        "### Autovalores de una matriz\n"
      ],
      "metadata": {
        "id": "a6wT5BcrAmUZ"
      }
    },
    {
      "cell_type": "markdown",
      "source": [
        "eigvals(a) : Devuelve los autovalores de la matriz cuadrada a.\n",
        "\n"
      ],
      "metadata": {
        "id": "zSjT_xgsApHW"
      }
    },
    {
      "cell_type": "code",
      "source": [
        "a = np.array([[1, 1, 0], [1, 2, 1], [0, 1, 1]])\n",
        "print(np.linalg.eigvals(a))"
      ],
      "metadata": {
        "id": "4EYOfFehArDo"
      },
      "execution_count": null,
      "outputs": []
    },
    {
      "cell_type": "markdown",
      "source": [
        "### Autovectores de una matriz"
      ],
      "metadata": {
        "id": "fbCg-czaAuCu"
      }
    },
    {
      "cell_type": "markdown",
      "source": [
        "eig(a) : Devuelve los autovalores y los autovectores asociados de la matriz cuadrada a."
      ],
      "metadata": {
        "id": "cAgTS7HOAwyh"
      }
    },
    {
      "cell_type": "code",
      "source": [
        "a = np.array([[1, 1, 0], [1, 2, 1], [0, 1, 1]])\n",
        "print(np.linalg.eig(a))"
      ],
      "metadata": {
        "id": "wC9PixsSAwci"
      },
      "execution_count": null,
      "outputs": []
    },
    {
      "cell_type": "markdown",
      "source": [
        "solve(a, b) : Devuelve la solución del sistema de ecuaciones lineales con los coeficientes de la matriz a y los términos independientes de la matriz b."
      ],
      "metadata": {
        "id": "8EKpELzMA66Q"
      }
    },
    {
      "cell_type": "code",
      "source": [
        "# Sistema de dos ecuaciones y dos incógnitas\n",
        "# x + 2y = 1\n",
        "# 3x + 5y = 2 \n",
        "a = np.array([[1, 2], [3, 5]])\n",
        "b = np.array([1, 2])\n",
        "print(np.linalg.solve(a, b))\n"
      ],
      "metadata": {
        "id": "pBAJWYbJA6JN"
      },
      "execution_count": null,
      "outputs": []
    },
    {
      "cell_type": "markdown",
      "source": [
        "### Solución de un sistema de ecuaciones"
      ],
      "metadata": {
        "id": "k1zOhHr7A2fK"
      }
    },
    {
      "cell_type": "markdown",
      "source": [
        "---\n",
        "\n",
        "# Gracias por completar este laboratorio!\n",
        "\n",
        "---\n"
      ],
      "metadata": {
        "id": "LY_03M0BoJZQ"
      }
    }
  ]
}